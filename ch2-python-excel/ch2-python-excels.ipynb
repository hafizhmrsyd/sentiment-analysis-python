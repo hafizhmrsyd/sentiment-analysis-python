{
 "cells": [
  {
   "cell_type": "markdown",
   "metadata": {},
   "source": [
    "#### Openpyxl dan Manipulasi workbook"
   ]
  },
  {
   "cell_type": "code",
   "execution_count": 1,
   "metadata": {},
   "outputs": [],
   "source": [
    "from openpyxl import Workbook\n",
    "\n",
    "wb = Workbook()\n",
    "ws = wb.active #kita sedang bekerja pd workbook yg sedang aktif (default=0) dgn judul \"sheet\""
   ]
  },
  {
   "cell_type": "code",
   "execution_count": 2,
   "metadata": {},
   "outputs": [
    {
     "name": "stdout",
     "output_type": "stream",
     "text": [
      "['kerja1', 'Sheet', 'kerja2', 'kerja']\n"
     ]
    }
   ],
   "source": [
    "ws1 = wb.create_sheet(\"kerja\") #creating a worksheet named \"kerja\" at the end after the first sheet\n",
    "ws2 = wb.create_sheet(\"kerja\", 0) #creating a worksheet at the beginning, auto rename\n",
    "ws3 = wb.create_sheet(\"kerja\", -1) #creating a ws at the second end, auto rename \n",
    "\n",
    "print(wb.sheetnames)"
   ]
  },
  {
   "cell_type": "code",
   "execution_count": 3,
   "metadata": {
    "scrolled": true
   },
   "outputs": [
    {
     "name": "stdout",
     "output_type": "stream",
     "text": [
      "['kerja1', 'kerja2', 'kerja3', 'kerja4']\n"
     ]
    }
   ],
   "source": [
    "ws3.title = 'kerja3'\n",
    "ws.title = 'kerja2' \n",
    "ws1.title = 'kerja4'\n",
    "ws2.title = 'kerja1'\n",
    "\n",
    "\n",
    "print(wb.sheetnames)"
   ]
  },
  {
   "cell_type": "code",
   "execution_count": 4,
   "metadata": {},
   "outputs": [],
   "source": [
    "wb.save('trial_file.xlsx')"
   ]
  },
  {
   "cell_type": "code",
   "execution_count": 5,
   "metadata": {},
   "outputs": [
    {
     "name": "stdout",
     "output_type": "stream",
     "text": [
      "<Worksheet \"kerja1\">\n"
     ]
    }
   ],
   "source": [
    "workactive = wb['kerja1']\n",
    "print(workactive)"
   ]
  },
  {
   "cell_type": "markdown",
   "metadata": {},
   "source": [
    "#### Manipulasi Sel"
   ]
  },
  {
   "cell_type": "code",
   "execution_count": 6,
   "metadata": {},
   "outputs": [],
   "source": [
    "ws3['C4'] = 'First Child'\n",
    "ws3.cell(row=5, column=4).value = 8\n",
    "ws1['C4'] = 'Second Child'\n",
    "ws.cell(row=4, column=7).value = 7"
   ]
  },
  {
   "cell_type": "code",
   "execution_count": 7,
   "metadata": {},
   "outputs": [],
   "source": [
    "food = ['meatballs','noodles','steak','spaghetti']\n",
    "\n",
    "for index in range(0, len(food)):\n",
    "    ws2.cell(row=index+1, column=1).value = food[index]\n",
    "\n",
    "for index in range (0, len(food)):\n",
    "    ws2.cell(row=1, column=index+1).value = food[index]\n",
    "    \n",
    "#row + 1 dan column +1 digunakan karena baris dan kolom\n",
    "#tidak bisa dimulai dari 0."
   ]
  },
  {
   "cell_type": "code",
   "execution_count": 8,
   "metadata": {},
   "outputs": [],
   "source": [
    "menu = [['hari'],['senin', 'nasi', 'ayam'],['selasa', 'susu'],['rabu','nasi goreng', 'ati ampela', 'jus apel'],['kamis','capcay','telur mata sapi']]\n",
    "for item in menu:\n",
    "    ws.append(item)\n",
    "\n",
    "#FUNGSI BELUM TAU"
   ]
  },
  {
   "cell_type": "code",
   "execution_count": 9,
   "metadata": {},
   "outputs": [],
   "source": [
    "wb.save('trial_file.xlsx')"
   ]
  },
  {
   "cell_type": "markdown",
   "metadata": {},
   "source": [
    "#### Membaca Excel"
   ]
  },
  {
   "cell_type": "code",
   "execution_count": 10,
   "metadata": {},
   "outputs": [],
   "source": [
    "from openpyxl import load_workbook\n",
    "\n",
    "data = load_workbook(filename='trial_file.xlsx')"
   ]
  },
  {
   "cell_type": "code",
   "execution_count": 11,
   "metadata": {
    "scrolled": true
   },
   "outputs": [
    {
     "name": "stdout",
     "output_type": "stream",
     "text": [
      "<openpyxl.workbook.workbook.Workbook object at 0x0000027EC3C682B0>\n"
     ]
    }
   ],
   "source": [
    "print(data)"
   ]
  },
  {
   "cell_type": "code",
   "execution_count": 12,
   "metadata": {
    "scrolled": true
   },
   "outputs": [
    {
     "name": "stdout",
     "output_type": "stream",
     "text": [
      "['kerja1', 'kerja2', 'kerja3', 'kerja4']\n"
     ]
    }
   ],
   "source": [
    "print(data.sheetnames)"
   ]
  },
  {
   "cell_type": "code",
   "execution_count": 13,
   "metadata": {},
   "outputs": [
    {
     "name": "stdout",
     "output_type": "stream",
     "text": [
      "<Worksheet \"kerja1\">\n",
      "<Worksheet \"kerja3\">\n"
     ]
    }
   ],
   "source": [
    "sheet = data.active\n",
    "print(sheet)\n",
    "\n",
    "sheet1 = data['kerja3']\n",
    "print(sheet1)\n",
    "\n",
    "#mulai bekerja di worksheet kerja1"
   ]
  },
  {
   "cell_type": "code",
   "execution_count": 14,
   "metadata": {},
   "outputs": [
    {
     "name": "stdout",
     "output_type": "stream",
     "text": [
      "<Cell 'kerja1'.C4>\n"
     ]
    }
   ],
   "source": [
    "print(sheet['C4']) #checking sel terkait di sheet terkait"
   ]
  },
  {
   "cell_type": "code",
   "execution_count": 15,
   "metadata": {},
   "outputs": [
    {
     "name": "stdout",
     "output_type": "stream",
     "text": [
      "None\n"
     ]
    }
   ],
   "source": [
    "print(sheet['C4'].value) #mengambil nilai dari sel terkait di sheet terkait"
   ]
  },
  {
   "cell_type": "code",
   "execution_count": 16,
   "metadata": {},
   "outputs": [
    {
     "name": "stdout",
     "output_type": "stream",
     "text": [
      "<Cell 'kerja3'.C4>\n"
     ]
    }
   ],
   "source": [
    "print(sheet1.cell(row=4, column=3))"
   ]
  },
  {
   "cell_type": "code",
   "execution_count": 17,
   "metadata": {},
   "outputs": [
    {
     "name": "stdout",
     "output_type": "stream",
     "text": [
      "First Child\n"
     ]
    }
   ],
   "source": [
    "print(sheet1.cell(row=4, column=3).value)"
   ]
  },
  {
   "cell_type": "code",
   "execution_count": 18,
   "metadata": {},
   "outputs": [
    {
     "name": "stdout",
     "output_type": "stream",
     "text": [
      "((<Cell 'kerja2'.A3>, <Cell 'kerja2'.B3>, <Cell 'kerja2'.C3>, <Cell 'kerja2'.D3>), (<Cell 'kerja2'.A4>, <Cell 'kerja2'.B4>, <Cell 'kerja2'.C4>, <Cell 'kerja2'.D4>))\n",
      "(<Cell 'kerja2'.A1>, <Cell 'kerja2'.A2>, <Cell 'kerja2'.A3>, <Cell 'kerja2'.A4>, <Cell 'kerja2'.A5>, <Cell 'kerja2'.A6>, <Cell 'kerja2'.A7>, <Cell 'kerja2'.A8>, <Cell 'kerja2'.A9>)\n",
      "(<Cell 'kerja2'.A1>, <Cell 'kerja2'.B1>, <Cell 'kerja2'.C1>, <Cell 'kerja2'.D1>, <Cell 'kerja2'.E1>, <Cell 'kerja2'.F1>, <Cell 'kerja2'.G1>)\n",
      "((<Cell 'kerja2'.A1>, <Cell 'kerja2'.A2>, <Cell 'kerja2'.A3>, <Cell 'kerja2'.A4>, <Cell 'kerja2'.A5>, <Cell 'kerja2'.A6>, <Cell 'kerja2'.A7>, <Cell 'kerja2'.A8>, <Cell 'kerja2'.A9>), (<Cell 'kerja2'.B1>, <Cell 'kerja2'.B2>, <Cell 'kerja2'.B3>, <Cell 'kerja2'.B4>, <Cell 'kerja2'.B5>, <Cell 'kerja2'.B6>, <Cell 'kerja2'.B7>, <Cell 'kerja2'.B8>, <Cell 'kerja2'.B9>))\n",
      "((<Cell 'kerja2'.A1>, <Cell 'kerja2'.B1>, <Cell 'kerja2'.C1>, <Cell 'kerja2'.D1>, <Cell 'kerja2'.E1>, <Cell 'kerja2'.F1>, <Cell 'kerja2'.G1>), (<Cell 'kerja2'.A2>, <Cell 'kerja2'.B2>, <Cell 'kerja2'.C2>, <Cell 'kerja2'.D2>, <Cell 'kerja2'.E2>, <Cell 'kerja2'.F2>, <Cell 'kerja2'.G2>), (<Cell 'kerja2'.A3>, <Cell 'kerja2'.B3>, <Cell 'kerja2'.C3>, <Cell 'kerja2'.D3>, <Cell 'kerja2'.E3>, <Cell 'kerja2'.F3>, <Cell 'kerja2'.G3>), (<Cell 'kerja2'.A4>, <Cell 'kerja2'.B4>, <Cell 'kerja2'.C4>, <Cell 'kerja2'.D4>, <Cell 'kerja2'.E4>, <Cell 'kerja2'.F4>, <Cell 'kerja2'.G4>))\n"
     ]
    }
   ],
   "source": [
    "#BELUM TAU FUNGSINYA\n",
    "print(ws[\"A3:D4\"])\n",
    "\n",
    "print(ws[\"A\"])\n",
    "\n",
    "print(ws[1])\n",
    "\n",
    "print(ws[\"A:B\"])\n",
    "\n",
    "print(ws[1:4])"
   ]
  },
  {
   "cell_type": "markdown",
   "metadata": {},
   "source": [
    "sheet[\"A3:D4\"] akan mengambil data pada kota di dalam A3 sampai D4\n",
    "sheet[\"A\"] akan mengambil semua data pada kolom A\n",
    "sheet[1] akan mengambil semua data pada baris pertama\n",
    "sheet[\"A:B\"] akan mengambil semua data pada kolom A sampai kolom B\n",
    "sheet[1:4] akan mengambil semua data pada baris pertama sampai bari keempat."
   ]
  },
  {
   "cell_type": "code",
   "execution_count": 19,
   "metadata": {},
   "outputs": [
    {
     "name": "stdout",
     "output_type": "stream",
     "text": [
      "<Worksheet \"kerja1\">\n",
      "<Worksheet \"kerja2\">\n"
     ]
    }
   ],
   "source": [
    "sheet = data.active\n",
    "print(sheet)\n",
    "\n",
    "sheetx = data['kerja2']\n",
    "print(sheetx)\n",
    "\n",
    "sheety = data['kerja3']\n",
    "sheetz = data['kerja4']"
   ]
  },
  {
   "cell_type": "code",
   "execution_count": 20,
   "metadata": {
    "scrolled": true
   },
   "outputs": [
    {
     "name": "stdout",
     "output_type": "stream",
     "text": [
      "((<Cell 'kerja1'.A1>, <Cell 'kerja1'.B1>, <Cell 'kerja1'.C1>, <Cell 'kerja1'.D1>),)\n"
     ]
    }
   ],
   "source": [
    "print(sheet['A1':'D1'])"
   ]
  },
  {
   "cell_type": "code",
   "execution_count": 21,
   "metadata": {},
   "outputs": [
    {
     "name": "stdout",
     "output_type": "stream",
     "text": [
      "<Cell 'kerja1'.A1>\n",
      "<Cell 'kerja1'.B1>\n",
      "<Cell 'kerja1'.C1>\n",
      "<Cell 'kerja1'.D1>\n",
      "<Cell 'kerja1'.A2>\n",
      "<Cell 'kerja1'.B2>\n",
      "<Cell 'kerja1'.C2>\n",
      "<Cell 'kerja1'.D2>\n"
     ]
    }
   ],
   "source": [
    "for row in sheet.iter_rows(min_row=1, max_col=4, max_row=2):\n",
    "    for cell in row:\n",
    "        print(cell)"
   ]
  },
  {
   "cell_type": "code",
   "execution_count": 22,
   "metadata": {
    "scrolled": true
   },
   "outputs": [
    {
     "data": {
      "text/plain": [
       "<generator object Worksheet._cells_by_row at 0x0000027EC3CAAA50>"
      ]
     },
     "execution_count": 22,
     "metadata": {},
     "output_type": "execute_result"
    }
   ],
   "source": [
    "#digunakan untuk mengambil semua kolom dengan range disebutkan\n",
    "sheet.iter_cols(min_row=1, max_row=4, min_col=1, max_col=4)\n",
    "\n",
    "#digunakan untuk mengambil semua baris dengan range disebutkan\n",
    "sheet.iter_rows(min_row=1, max_row=4, min_col=1, max_col=4)"
   ]
  },
  {
   "cell_type": "markdown",
   "metadata": {},
   "source": [
    "#### Pandas & Excel"
   ]
  },
  {
   "cell_type": "markdown",
   "metadata": {},
   "source": [
    "#Untuk melakukan konversi dari dataframe\n",
    "#ke dalam excel yang disimpan kita dapat menggunakan.\n",
    "\n",
    "import pandas as pd\n",
    "\n",
    "df = sheet.to_excel('trial_file.xlsx')"
   ]
  },
  {
   "cell_type": "markdown",
   "metadata": {},
   "source": [
    "#Jika kita perlu memasukkan ke dalam sheet tertentu,\n",
    "#bisa kita gunakan\n",
    "\n",
    "df.to_excel(\"trial_file.xlsx\",sheet_name='kerja1')"
   ]
  },
  {
   "cell_type": "markdown",
   "metadata": {},
   "source": [
    "#Memasukkan beberapa dataframe kedalam sheet yang berbeda\n",
    "#dapat kita lakukan dengan memanfaatkan fungsi ExcelWriter\n",
    "\n",
    "with pd.ExcelWriter('trial_file.xlsx') as writer:  \n",
    "    hasil1.to_excel(writer, sheet_name='kerja1')\n",
    "    hasil2.to_excel(writer, sheet_name='kerja2')"
   ]
  },
  {
   "cell_type": "markdown",
   "metadata": {},
   "source": [
    "#### Visualisasi dengan pulau_indonesia.csv "
   ]
  },
  {
   "cell_type": "code",
   "execution_count": 23,
   "metadata": {
    "scrolled": true
   },
   "outputs": [],
   "source": [
    "from openpyxl import Workbook\n",
    "from openpyxl.chart import BarChart, Reference\n",
    "import csv\n",
    "\n",
    "#inisiasi excel\n",
    "wb = Workbook(write_only=True)\n",
    "ws = wb.create_sheet() #harus dibikin dulu sheet dulu. Kalo wb.active, hrs ada sheet dulu\n",
    "\n",
    "#open file\n",
    "data = open('pulau_indonesia.csv')\n",
    "rows = csv.reader(data, delimiter=\",\")\n",
    "\n",
    "#for row in rows:\n",
    "#    print(row)"
   ]
  },
  {
   "cell_type": "code",
   "execution_count": 24,
   "metadata": {},
   "outputs": [],
   "source": [
    "index = 0\n",
    "for row in rows:\n",
    "    list_baru = []   #list_baru untuk mengubah angka di csv dr string mjd int \n",
    "    for cell in row:\n",
    "        try:                     #try except adalah manajemen error, bukan membandingkan dua kondisi\n",
    "            if cell.isalnum():    #pake try ini akan menunjukkan nilai awal string\n",
    "                cell = ''.join(cell)\n",
    "            cell = int(cell)\n",
    "        except:\n",
    "            #print(type(cell))  #pake except di sini akan menunjukkan mana yg masi jadi string\n",
    "            pass #kenapa pass? bilamana ditulis method misal print(), malah hanya menunjukkan error, bukan dikoreksi\n",
    "        list_baru.append(cell) #list_baru yg isinya cells yg sdh jadi int\n",
    "    ws.append(list_baru)\n",
    "    index += 1\n",
    "len_row = len(list_baru)\n",
    "\n",
    "#inisiasi chart\n",
    "chart_1 = BarChart()\n",
    "chart_1.type = 'col' #grafik nanti tumbuh ke atas\n",
    "chart_1.style = 8 #bebas\n",
    "chart_1.title = 'Data Kepulauan di Indonesia'\n",
    "chart_1.y_axis.title = 'Jumlah Pulau'\n",
    "chart_1.x_axis.title = 'Nama Provinsi'\n",
    "\n",
    "data = Reference(ws, min_col=3, max_col=4, min_row=1, max_row=index)\n",
    "cats = Reference(ws, min_col=2, min_row=2, max_row=index)\n",
    "chart_1.height = 10\n",
    "chart_1.width = 30\n",
    "chart_1.add_data(data, titles_from_data=True)\n",
    "chart_1.set_categories(cats)\n",
    "ws.add_chart(chart_1, 'G2')\n",
    "\n",
    "wb.save('chart pulau.xlsx')"
   ]
  },
  {
   "cell_type": "markdown",
   "metadata": {},
   "source": [
    "# Tugas 2"
   ]
  },
  {
   "cell_type": "markdown",
   "metadata": {},
   "source": [
    "Buatlah sebuah fungsi/kode yang memiliki fitur mengenerate file excel dengan ketentuan:\n",
    "1. File excel menghitung tingkat kepadatan penduduk tiap kecamatan di bandung per 100 meter persegi\n",
    "2. Gunakan chart batang sebagai visualisasi\n",
    "3. File excel yang digenerate diberinama emaildepan.xlsx (ganti nama peserta dengan nama kalian.\n",
    "4. Kumpulkan dengan format penamaan tugas_2_emaildepan.py/ipynb yang ketika dijalankan akan menghasilkan file xlsx."
   ]
  },
  {
   "cell_type": "code",
   "execution_count": 25,
   "metadata": {},
   "outputs": [],
   "source": [
    "from openpyxl import Workbook\n",
    "from openpyxl.chart import BarChart, Series, Reference\n",
    "import pandas as pd\n",
    "import csv"
   ]
  },
  {
   "cell_type": "markdown",
   "metadata": {},
   "source": [
    "#pembersihan data via pandas"
   ]
  },
  {
   "cell_type": "code",
   "execution_count": 26,
   "metadata": {},
   "outputs": [],
   "source": [
    "dataset1 = pd.read_csv('jumlah-penduduk-kota-bandung.csv')"
   ]
  },
  {
   "cell_type": "code",
   "execution_count": 27,
   "metadata": {},
   "outputs": [],
   "source": [
    "dataset2 = pd.read_csv('luas-wilayah-menurut-kecamatan-di-kota-bandung-2017.csv')"
   ]
  },
  {
   "cell_type": "code",
   "execution_count": 28,
   "metadata": {},
   "outputs": [
    {
     "data": {
      "text/plain": [
       "['Kecamatan  ', 'Jumlah_Kelurahan', 'Jumlah_Penduduk']"
      ]
     },
     "execution_count": 28,
     "metadata": {},
     "output_type": "execute_result"
    }
   ],
   "source": [
    "dataset1.columns.tolist()"
   ]
  },
  {
   "cell_type": "code",
   "execution_count": 29,
   "metadata": {},
   "outputs": [
    {
     "data": {
      "text/html": [
       "<div>\n",
       "<style scoped>\n",
       "    .dataframe tbody tr th:only-of-type {\n",
       "        vertical-align: middle;\n",
       "    }\n",
       "\n",
       "    .dataframe tbody tr th {\n",
       "        vertical-align: top;\n",
       "    }\n",
       "\n",
       "    .dataframe thead th {\n",
       "        text-align: right;\n",
       "    }\n",
       "</style>\n",
       "<table border=\"1\" class=\"dataframe\">\n",
       "  <thead>\n",
       "    <tr style=\"text-align: right;\">\n",
       "      <th></th>\n",
       "      <th>Kecamatan</th>\n",
       "      <th>Jumlah_Kelurahan</th>\n",
       "      <th>Jumlah_Penduduk</th>\n",
       "    </tr>\n",
       "  </thead>\n",
       "  <tbody>\n",
       "    <tr>\n",
       "      <th>0</th>\n",
       "      <td>Bandung Kulon</td>\n",
       "      <td>8</td>\n",
       "      <td>142411</td>\n",
       "    </tr>\n",
       "    <tr>\n",
       "      <th>1</th>\n",
       "      <td>Babakan Ciparay</td>\n",
       "      <td>6</td>\n",
       "      <td>147096</td>\n",
       "    </tr>\n",
       "    <tr>\n",
       "      <th>2</th>\n",
       "      <td>Bojongloa Kaler</td>\n",
       "      <td>5</td>\n",
       "      <td>120405</td>\n",
       "    </tr>\n",
       "    <tr>\n",
       "      <th>3</th>\n",
       "      <td>Bojongloa Kidul</td>\n",
       "      <td>6</td>\n",
       "      <td>85668</td>\n",
       "    </tr>\n",
       "    <tr>\n",
       "      <th>4</th>\n",
       "      <td>Astanaanyar</td>\n",
       "      <td>6</td>\n",
       "      <td>68830</td>\n",
       "    </tr>\n",
       "    <tr>\n",
       "      <th>5</th>\n",
       "      <td>Regol</td>\n",
       "      <td>7</td>\n",
       "      <td>81467</td>\n",
       "    </tr>\n",
       "    <tr>\n",
       "      <th>6</th>\n",
       "      <td>Lengkong</td>\n",
       "      <td>7</td>\n",
       "      <td>71187</td>\n",
       "    </tr>\n",
       "    <tr>\n",
       "      <th>7</th>\n",
       "      <td>Bandung Kidul</td>\n",
       "      <td>4</td>\n",
       "      <td>58957</td>\n",
       "    </tr>\n",
       "    <tr>\n",
       "      <th>8</th>\n",
       "      <td>Buah Batu</td>\n",
       "      <td>4</td>\n",
       "      <td>95108</td>\n",
       "    </tr>\n",
       "    <tr>\n",
       "      <th>9</th>\n",
       "      <td>Rancasari</td>\n",
       "      <td>4</td>\n",
       "      <td>76895</td>\n",
       "    </tr>\n",
       "    <tr>\n",
       "      <th>10</th>\n",
       "      <td>Gedebage</td>\n",
       "      <td>4</td>\n",
       "      <td>37082</td>\n",
       "    </tr>\n",
       "    <tr>\n",
       "      <th>11</th>\n",
       "      <td>Cibiru</td>\n",
       "      <td>4</td>\n",
       "      <td>72016</td>\n",
       "    </tr>\n",
       "    <tr>\n",
       "      <th>12</th>\n",
       "      <td>Panyileukan</td>\n",
       "      <td>4</td>\n",
       "      <td>40248</td>\n",
       "    </tr>\n",
       "    <tr>\n",
       "      <th>13</th>\n",
       "      <td>Ujung Berung</td>\n",
       "      <td>5</td>\n",
       "      <td>76902</td>\n",
       "    </tr>\n",
       "    <tr>\n",
       "      <th>14</th>\n",
       "      <td>Cinambo</td>\n",
       "      <td>4</td>\n",
       "      <td>25231</td>\n",
       "    </tr>\n",
       "    <tr>\n",
       "      <th>15</th>\n",
       "      <td>Arcamanik</td>\n",
       "      <td>4</td>\n",
       "      <td>69313</td>\n",
       "    </tr>\n",
       "    <tr>\n",
       "      <th>16</th>\n",
       "      <td>Antapani</td>\n",
       "      <td>4</td>\n",
       "      <td>74461</td>\n",
       "    </tr>\n",
       "    <tr>\n",
       "      <th>17</th>\n",
       "      <td>Mandalajati</td>\n",
       "      <td>4</td>\n",
       "      <td>63578</td>\n",
       "    </tr>\n",
       "    <tr>\n",
       "      <th>18</th>\n",
       "      <td>Kiaracondong</td>\n",
       "      <td>6</td>\n",
       "      <td>131972</td>\n",
       "    </tr>\n",
       "    <tr>\n",
       "      <th>19</th>\n",
       "      <td>Batununggal</td>\n",
       "      <td>8</td>\n",
       "      <td>120927</td>\n",
       "    </tr>\n",
       "    <tr>\n",
       "      <th>20</th>\n",
       "      <td>Sumur Bandung</td>\n",
       "      <td>4</td>\n",
       "      <td>36579</td>\n",
       "    </tr>\n",
       "    <tr>\n",
       "      <th>21</th>\n",
       "      <td>Andir</td>\n",
       "      <td>6</td>\n",
       "      <td>97553</td>\n",
       "    </tr>\n",
       "    <tr>\n",
       "      <th>22</th>\n",
       "      <td>Cicendo</td>\n",
       "      <td>6</td>\n",
       "      <td>99752</td>\n",
       "    </tr>\n",
       "    <tr>\n",
       "      <th>23</th>\n",
       "      <td>Bandung Wetan</td>\n",
       "      <td>3</td>\n",
       "      <td>31124</td>\n",
       "    </tr>\n",
       "    <tr>\n",
       "      <th>24</th>\n",
       "      <td>Cibeunying Kidul</td>\n",
       "      <td>6</td>\n",
       "      <td>107806</td>\n",
       "    </tr>\n",
       "    <tr>\n",
       "      <th>25</th>\n",
       "      <td>Cibeunying Kaler</td>\n",
       "      <td>4</td>\n",
       "      <td>70924</td>\n",
       "    </tr>\n",
       "    <tr>\n",
       "      <th>26</th>\n",
       "      <td>Coblong</td>\n",
       "      <td>6</td>\n",
       "      <td>131530</td>\n",
       "    </tr>\n",
       "    <tr>\n",
       "      <th>27</th>\n",
       "      <td>Sukajadi</td>\n",
       "      <td>5</td>\n",
       "      <td>108375</td>\n",
       "    </tr>\n",
       "    <tr>\n",
       "      <th>28</th>\n",
       "      <td>Sukasari</td>\n",
       "      <td>4</td>\n",
       "      <td>81908</td>\n",
       "    </tr>\n",
       "    <tr>\n",
       "      <th>29</th>\n",
       "      <td>Cidadap</td>\n",
       "      <td>3</td>\n",
       "      <td>58672</td>\n",
       "    </tr>\n",
       "  </tbody>\n",
       "</table>\n",
       "</div>"
      ],
      "text/plain": [
       "         Kecamatan    Jumlah_Kelurahan  Jumlah_Penduduk\n",
       "0      Bandung Kulon                 8           142411\n",
       "1    Babakan Ciparay                 6           147096\n",
       "2    Bojongloa Kaler                 5           120405\n",
       "3    Bojongloa Kidul                 6            85668\n",
       "4        Astanaanyar                 6            68830\n",
       "5              Regol                 7            81467\n",
       "6           Lengkong                 7            71187\n",
       "7      Bandung Kidul                 4            58957\n",
       "8          Buah Batu                 4            95108\n",
       "9          Rancasari                 4            76895\n",
       "10          Gedebage                 4            37082\n",
       "11            Cibiru                 4            72016\n",
       "12       Panyileukan                 4            40248\n",
       "13      Ujung Berung                 5            76902\n",
       "14           Cinambo                 4            25231\n",
       "15         Arcamanik                 4            69313\n",
       "16          Antapani                 4            74461\n",
       "17       Mandalajati                 4            63578\n",
       "18      Kiaracondong                 6           131972\n",
       "19       Batununggal                 8           120927\n",
       "20     Sumur Bandung                 4            36579\n",
       "21             Andir                 6            97553\n",
       "22           Cicendo                 6            99752\n",
       "23     Bandung Wetan                 3            31124\n",
       "24  Cibeunying Kidul                 6           107806\n",
       "25  Cibeunying Kaler                 4            70924\n",
       "26           Coblong                 6           131530\n",
       "27          Sukajadi                 5           108375\n",
       "28          Sukasari                 4            81908\n",
       "29           Cidadap                 3            58672"
      ]
     },
     "execution_count": 29,
     "metadata": {},
     "output_type": "execute_result"
    }
   ],
   "source": [
    "dataset1"
   ]
  },
  {
   "cell_type": "code",
   "execution_count": 30,
   "metadata": {},
   "outputs": [
    {
     "data": {
      "text/plain": [
       "['Nama Kecamatan', 'Luas Wilayah (m2)']"
      ]
     },
     "execution_count": 30,
     "metadata": {},
     "output_type": "execute_result"
    }
   ],
   "source": [
    "dataset2.columns.tolist()"
   ]
  },
  {
   "cell_type": "code",
   "execution_count": 31,
   "metadata": {},
   "outputs": [
    {
     "data": {
      "text/html": [
       "<div>\n",
       "<style scoped>\n",
       "    .dataframe tbody tr th:only-of-type {\n",
       "        vertical-align: middle;\n",
       "    }\n",
       "\n",
       "    .dataframe tbody tr th {\n",
       "        vertical-align: top;\n",
       "    }\n",
       "\n",
       "    .dataframe thead th {\n",
       "        text-align: right;\n",
       "    }\n",
       "</style>\n",
       "<table border=\"1\" class=\"dataframe\">\n",
       "  <thead>\n",
       "    <tr style=\"text-align: right;\">\n",
       "      <th></th>\n",
       "      <th>Nama Kecamatan</th>\n",
       "      <th>Luas Wilayah (m2)</th>\n",
       "    </tr>\n",
       "  </thead>\n",
       "  <tbody>\n",
       "    <tr>\n",
       "      <th>0</th>\n",
       "      <td>Andir</td>\n",
       "      <td>4220000</td>\n",
       "    </tr>\n",
       "    <tr>\n",
       "      <th>1</th>\n",
       "      <td>Antapani</td>\n",
       "      <td>4220000</td>\n",
       "    </tr>\n",
       "    <tr>\n",
       "      <th>2</th>\n",
       "      <td>Arcamanik</td>\n",
       "      <td>7590000</td>\n",
       "    </tr>\n",
       "    <tr>\n",
       "      <th>3</th>\n",
       "      <td>Astana Anyar</td>\n",
       "      <td>2680000</td>\n",
       "    </tr>\n",
       "    <tr>\n",
       "      <th>4</th>\n",
       "      <td>Babakan Ciparay</td>\n",
       "      <td>7070000</td>\n",
       "    </tr>\n",
       "    <tr>\n",
       "      <th>5</th>\n",
       "      <td>Bandung Kidul</td>\n",
       "      <td>5420000</td>\n",
       "    </tr>\n",
       "    <tr>\n",
       "      <th>6</th>\n",
       "      <td>Bandung Kulon</td>\n",
       "      <td>6950000</td>\n",
       "    </tr>\n",
       "    <tr>\n",
       "      <th>7</th>\n",
       "      <td>Bandung Wetan</td>\n",
       "      <td>3440000</td>\n",
       "    </tr>\n",
       "    <tr>\n",
       "      <th>8</th>\n",
       "      <td>Batununggal</td>\n",
       "      <td>4820000</td>\n",
       "    </tr>\n",
       "    <tr>\n",
       "      <th>9</th>\n",
       "      <td>Bojongloa Kaler</td>\n",
       "      <td>3120000</td>\n",
       "    </tr>\n",
       "    <tr>\n",
       "      <th>10</th>\n",
       "      <td>Bojongloa Kidul</td>\n",
       "      <td>5200000</td>\n",
       "    </tr>\n",
       "    <tr>\n",
       "      <th>11</th>\n",
       "      <td>Buahbatu</td>\n",
       "      <td>7460000</td>\n",
       "    </tr>\n",
       "    <tr>\n",
       "      <th>12</th>\n",
       "      <td>Cibeunying Kaler</td>\n",
       "      <td>4640000</td>\n",
       "    </tr>\n",
       "    <tr>\n",
       "      <th>13</th>\n",
       "      <td>Cibeunying Kidul</td>\n",
       "      <td>4140000</td>\n",
       "    </tr>\n",
       "    <tr>\n",
       "      <th>14</th>\n",
       "      <td>Cibiru</td>\n",
       "      <td>6840000</td>\n",
       "    </tr>\n",
       "    <tr>\n",
       "      <th>15</th>\n",
       "      <td>Cicendo</td>\n",
       "      <td>7790000</td>\n",
       "    </tr>\n",
       "    <tr>\n",
       "      <th>16</th>\n",
       "      <td>Cidadap</td>\n",
       "      <td>8420000</td>\n",
       "    </tr>\n",
       "    <tr>\n",
       "      <th>17</th>\n",
       "      <td>Cinambo</td>\n",
       "      <td>4250000</td>\n",
       "    </tr>\n",
       "    <tr>\n",
       "      <th>18</th>\n",
       "      <td>Coblong</td>\n",
       "      <td>7310000</td>\n",
       "    </tr>\n",
       "    <tr>\n",
       "      <th>19</th>\n",
       "      <td>Gedebage</td>\n",
       "      <td>9960000</td>\n",
       "    </tr>\n",
       "    <tr>\n",
       "      <th>20</th>\n",
       "      <td>Kiaracondong</td>\n",
       "      <td>5800000</td>\n",
       "    </tr>\n",
       "    <tr>\n",
       "      <th>21</th>\n",
       "      <td>Lengkong</td>\n",
       "      <td>5910000</td>\n",
       "    </tr>\n",
       "    <tr>\n",
       "      <th>22</th>\n",
       "      <td>Mandalajati</td>\n",
       "      <td>4800000</td>\n",
       "    </tr>\n",
       "    <tr>\n",
       "      <th>23</th>\n",
       "      <td>Panyileukan</td>\n",
       "      <td>5310000</td>\n",
       "    </tr>\n",
       "    <tr>\n",
       "      <th>24</th>\n",
       "      <td>Rancasari</td>\n",
       "      <td>7010000</td>\n",
       "    </tr>\n",
       "    <tr>\n",
       "      <th>25</th>\n",
       "      <td>Regol</td>\n",
       "      <td>4740000</td>\n",
       "    </tr>\n",
       "    <tr>\n",
       "      <th>26</th>\n",
       "      <td>Sukajadi</td>\n",
       "      <td>5280000</td>\n",
       "    </tr>\n",
       "    <tr>\n",
       "      <th>27</th>\n",
       "      <td>Sukasari</td>\n",
       "      <td>6360000</td>\n",
       "    </tr>\n",
       "    <tr>\n",
       "      <th>28</th>\n",
       "      <td>Sumur Bandung</td>\n",
       "      <td>3490000</td>\n",
       "    </tr>\n",
       "    <tr>\n",
       "      <th>29</th>\n",
       "      <td>Ujungberung</td>\n",
       "      <td>6240000</td>\n",
       "    </tr>\n",
       "  </tbody>\n",
       "</table>\n",
       "</div>"
      ],
      "text/plain": [
       "      Nama Kecamatan  Luas Wilayah (m2)\n",
       "0              Andir            4220000\n",
       "1           Antapani            4220000\n",
       "2          Arcamanik            7590000\n",
       "3       Astana Anyar            2680000\n",
       "4    Babakan Ciparay            7070000\n",
       "5      Bandung Kidul            5420000\n",
       "6      Bandung Kulon            6950000\n",
       "7      Bandung Wetan            3440000\n",
       "8        Batununggal            4820000\n",
       "9    Bojongloa Kaler            3120000\n",
       "10   Bojongloa Kidul            5200000\n",
       "11          Buahbatu            7460000\n",
       "12  Cibeunying Kaler            4640000\n",
       "13  Cibeunying Kidul            4140000\n",
       "14            Cibiru            6840000\n",
       "15           Cicendo            7790000\n",
       "16           Cidadap            8420000\n",
       "17           Cinambo            4250000\n",
       "18           Coblong            7310000\n",
       "19          Gedebage            9960000\n",
       "20      Kiaracondong            5800000\n",
       "21          Lengkong            5910000\n",
       "22       Mandalajati            4800000\n",
       "23       Panyileukan            5310000\n",
       "24         Rancasari            7010000\n",
       "25             Regol            4740000\n",
       "26          Sukajadi            5280000\n",
       "27          Sukasari            6360000\n",
       "28     Sumur Bandung            3490000\n",
       "29       Ujungberung            6240000"
      ]
     },
     "execution_count": 31,
     "metadata": {},
     "output_type": "execute_result"
    }
   ],
   "source": [
    "dataset2"
   ]
  },
  {
   "cell_type": "code",
   "execution_count": 32,
   "metadata": {
    "scrolled": false
   },
   "outputs": [],
   "source": [
    "dataset1 = dataset1.sort_values(by=['Kecamatan  '], ascending=True)\n",
    "dataset1.reset_index(inplace=True, drop=True)"
   ]
  },
  {
   "cell_type": "code",
   "execution_count": 33,
   "metadata": {},
   "outputs": [
    {
     "data": {
      "text/html": [
       "<div>\n",
       "<style scoped>\n",
       "    .dataframe tbody tr th:only-of-type {\n",
       "        vertical-align: middle;\n",
       "    }\n",
       "\n",
       "    .dataframe tbody tr th {\n",
       "        vertical-align: top;\n",
       "    }\n",
       "\n",
       "    .dataframe thead th {\n",
       "        text-align: right;\n",
       "    }\n",
       "</style>\n",
       "<table border=\"1\" class=\"dataframe\">\n",
       "  <thead>\n",
       "    <tr style=\"text-align: right;\">\n",
       "      <th></th>\n",
       "      <th>Kecamatan</th>\n",
       "      <th>Jumlah_Kelurahan</th>\n",
       "      <th>Jumlah_Penduduk</th>\n",
       "    </tr>\n",
       "  </thead>\n",
       "  <tbody>\n",
       "    <tr>\n",
       "      <th>0</th>\n",
       "      <td>Andir</td>\n",
       "      <td>6</td>\n",
       "      <td>97553</td>\n",
       "    </tr>\n",
       "    <tr>\n",
       "      <th>1</th>\n",
       "      <td>Antapani</td>\n",
       "      <td>4</td>\n",
       "      <td>74461</td>\n",
       "    </tr>\n",
       "    <tr>\n",
       "      <th>2</th>\n",
       "      <td>Arcamanik</td>\n",
       "      <td>4</td>\n",
       "      <td>69313</td>\n",
       "    </tr>\n",
       "    <tr>\n",
       "      <th>3</th>\n",
       "      <td>Astanaanyar</td>\n",
       "      <td>6</td>\n",
       "      <td>68830</td>\n",
       "    </tr>\n",
       "    <tr>\n",
       "      <th>4</th>\n",
       "      <td>Babakan Ciparay</td>\n",
       "      <td>6</td>\n",
       "      <td>147096</td>\n",
       "    </tr>\n",
       "    <tr>\n",
       "      <th>5</th>\n",
       "      <td>Bandung Kidul</td>\n",
       "      <td>4</td>\n",
       "      <td>58957</td>\n",
       "    </tr>\n",
       "    <tr>\n",
       "      <th>6</th>\n",
       "      <td>Bandung Kulon</td>\n",
       "      <td>8</td>\n",
       "      <td>142411</td>\n",
       "    </tr>\n",
       "    <tr>\n",
       "      <th>7</th>\n",
       "      <td>Bandung Wetan</td>\n",
       "      <td>3</td>\n",
       "      <td>31124</td>\n",
       "    </tr>\n",
       "    <tr>\n",
       "      <th>8</th>\n",
       "      <td>Batununggal</td>\n",
       "      <td>8</td>\n",
       "      <td>120927</td>\n",
       "    </tr>\n",
       "    <tr>\n",
       "      <th>9</th>\n",
       "      <td>Bojongloa Kaler</td>\n",
       "      <td>5</td>\n",
       "      <td>120405</td>\n",
       "    </tr>\n",
       "    <tr>\n",
       "      <th>10</th>\n",
       "      <td>Bojongloa Kidul</td>\n",
       "      <td>6</td>\n",
       "      <td>85668</td>\n",
       "    </tr>\n",
       "    <tr>\n",
       "      <th>11</th>\n",
       "      <td>Buah Batu</td>\n",
       "      <td>4</td>\n",
       "      <td>95108</td>\n",
       "    </tr>\n",
       "    <tr>\n",
       "      <th>12</th>\n",
       "      <td>Cibeunying Kaler</td>\n",
       "      <td>4</td>\n",
       "      <td>70924</td>\n",
       "    </tr>\n",
       "    <tr>\n",
       "      <th>13</th>\n",
       "      <td>Cibeunying Kidul</td>\n",
       "      <td>6</td>\n",
       "      <td>107806</td>\n",
       "    </tr>\n",
       "    <tr>\n",
       "      <th>14</th>\n",
       "      <td>Cibiru</td>\n",
       "      <td>4</td>\n",
       "      <td>72016</td>\n",
       "    </tr>\n",
       "    <tr>\n",
       "      <th>15</th>\n",
       "      <td>Cicendo</td>\n",
       "      <td>6</td>\n",
       "      <td>99752</td>\n",
       "    </tr>\n",
       "    <tr>\n",
       "      <th>16</th>\n",
       "      <td>Cidadap</td>\n",
       "      <td>3</td>\n",
       "      <td>58672</td>\n",
       "    </tr>\n",
       "    <tr>\n",
       "      <th>17</th>\n",
       "      <td>Cinambo</td>\n",
       "      <td>4</td>\n",
       "      <td>25231</td>\n",
       "    </tr>\n",
       "    <tr>\n",
       "      <th>18</th>\n",
       "      <td>Coblong</td>\n",
       "      <td>6</td>\n",
       "      <td>131530</td>\n",
       "    </tr>\n",
       "    <tr>\n",
       "      <th>19</th>\n",
       "      <td>Gedebage</td>\n",
       "      <td>4</td>\n",
       "      <td>37082</td>\n",
       "    </tr>\n",
       "    <tr>\n",
       "      <th>20</th>\n",
       "      <td>Kiaracondong</td>\n",
       "      <td>6</td>\n",
       "      <td>131972</td>\n",
       "    </tr>\n",
       "    <tr>\n",
       "      <th>21</th>\n",
       "      <td>Lengkong</td>\n",
       "      <td>7</td>\n",
       "      <td>71187</td>\n",
       "    </tr>\n",
       "    <tr>\n",
       "      <th>22</th>\n",
       "      <td>Mandalajati</td>\n",
       "      <td>4</td>\n",
       "      <td>63578</td>\n",
       "    </tr>\n",
       "    <tr>\n",
       "      <th>23</th>\n",
       "      <td>Panyileukan</td>\n",
       "      <td>4</td>\n",
       "      <td>40248</td>\n",
       "    </tr>\n",
       "    <tr>\n",
       "      <th>24</th>\n",
       "      <td>Rancasari</td>\n",
       "      <td>4</td>\n",
       "      <td>76895</td>\n",
       "    </tr>\n",
       "    <tr>\n",
       "      <th>25</th>\n",
       "      <td>Regol</td>\n",
       "      <td>7</td>\n",
       "      <td>81467</td>\n",
       "    </tr>\n",
       "    <tr>\n",
       "      <th>26</th>\n",
       "      <td>Sukajadi</td>\n",
       "      <td>5</td>\n",
       "      <td>108375</td>\n",
       "    </tr>\n",
       "    <tr>\n",
       "      <th>27</th>\n",
       "      <td>Sukasari</td>\n",
       "      <td>4</td>\n",
       "      <td>81908</td>\n",
       "    </tr>\n",
       "    <tr>\n",
       "      <th>28</th>\n",
       "      <td>Sumur Bandung</td>\n",
       "      <td>4</td>\n",
       "      <td>36579</td>\n",
       "    </tr>\n",
       "    <tr>\n",
       "      <th>29</th>\n",
       "      <td>Ujung Berung</td>\n",
       "      <td>5</td>\n",
       "      <td>76902</td>\n",
       "    </tr>\n",
       "  </tbody>\n",
       "</table>\n",
       "</div>"
      ],
      "text/plain": [
       "         Kecamatan    Jumlah_Kelurahan  Jumlah_Penduduk\n",
       "0              Andir                 6            97553\n",
       "1           Antapani                 4            74461\n",
       "2          Arcamanik                 4            69313\n",
       "3        Astanaanyar                 6            68830\n",
       "4    Babakan Ciparay                 6           147096\n",
       "5      Bandung Kidul                 4            58957\n",
       "6      Bandung Kulon                 8           142411\n",
       "7      Bandung Wetan                 3            31124\n",
       "8        Batununggal                 8           120927\n",
       "9    Bojongloa Kaler                 5           120405\n",
       "10   Bojongloa Kidul                 6            85668\n",
       "11         Buah Batu                 4            95108\n",
       "12  Cibeunying Kaler                 4            70924\n",
       "13  Cibeunying Kidul                 6           107806\n",
       "14            Cibiru                 4            72016\n",
       "15           Cicendo                 6            99752\n",
       "16           Cidadap                 3            58672\n",
       "17           Cinambo                 4            25231\n",
       "18           Coblong                 6           131530\n",
       "19          Gedebage                 4            37082\n",
       "20      Kiaracondong                 6           131972\n",
       "21          Lengkong                 7            71187\n",
       "22       Mandalajati                 4            63578\n",
       "23       Panyileukan                 4            40248\n",
       "24         Rancasari                 4            76895\n",
       "25             Regol                 7            81467\n",
       "26          Sukajadi                 5           108375\n",
       "27          Sukasari                 4            81908\n",
       "28     Sumur Bandung                 4            36579\n",
       "29      Ujung Berung                 5            76902"
      ]
     },
     "execution_count": 33,
     "metadata": {},
     "output_type": "execute_result"
    }
   ],
   "source": [
    "dataset1"
   ]
  },
  {
   "cell_type": "code",
   "execution_count": 34,
   "metadata": {
    "scrolled": true
   },
   "outputs": [],
   "source": [
    "dataset2['Kepadatan Penduduk'] = dataset1['Jumlah_Penduduk'] / dataset2['Luas Wilayah (m2)'] * 100"
   ]
  },
  {
   "cell_type": "code",
   "execution_count": 35,
   "metadata": {},
   "outputs": [],
   "source": [
    "dataset = dataset2.drop('Luas Wilayah (m2)', 1)"
   ]
  },
  {
   "cell_type": "code",
   "execution_count": 36,
   "metadata": {},
   "outputs": [
    {
     "data": {
      "text/html": [
       "<div>\n",
       "<style scoped>\n",
       "    .dataframe tbody tr th:only-of-type {\n",
       "        vertical-align: middle;\n",
       "    }\n",
       "\n",
       "    .dataframe tbody tr th {\n",
       "        vertical-align: top;\n",
       "    }\n",
       "\n",
       "    .dataframe thead th {\n",
       "        text-align: right;\n",
       "    }\n",
       "</style>\n",
       "<table border=\"1\" class=\"dataframe\">\n",
       "  <thead>\n",
       "    <tr style=\"text-align: right;\">\n",
       "      <th></th>\n",
       "      <th>Nama Kecamatan</th>\n",
       "      <th>Kepadatan Penduduk</th>\n",
       "    </tr>\n",
       "  </thead>\n",
       "  <tbody>\n",
       "    <tr>\n",
       "      <th>0</th>\n",
       "      <td>Andir</td>\n",
       "      <td>2.311682</td>\n",
       "    </tr>\n",
       "    <tr>\n",
       "      <th>1</th>\n",
       "      <td>Antapani</td>\n",
       "      <td>1.764479</td>\n",
       "    </tr>\n",
       "    <tr>\n",
       "      <th>2</th>\n",
       "      <td>Arcamanik</td>\n",
       "      <td>0.913215</td>\n",
       "    </tr>\n",
       "    <tr>\n",
       "      <th>3</th>\n",
       "      <td>Astana Anyar</td>\n",
       "      <td>2.568284</td>\n",
       "    </tr>\n",
       "    <tr>\n",
       "      <th>4</th>\n",
       "      <td>Babakan Ciparay</td>\n",
       "      <td>2.080566</td>\n",
       "    </tr>\n",
       "    <tr>\n",
       "      <th>5</th>\n",
       "      <td>Bandung Kidul</td>\n",
       "      <td>1.087768</td>\n",
       "    </tr>\n",
       "    <tr>\n",
       "      <th>6</th>\n",
       "      <td>Bandung Kulon</td>\n",
       "      <td>2.049079</td>\n",
       "    </tr>\n",
       "    <tr>\n",
       "      <th>7</th>\n",
       "      <td>Bandung Wetan</td>\n",
       "      <td>0.904767</td>\n",
       "    </tr>\n",
       "    <tr>\n",
       "      <th>8</th>\n",
       "      <td>Batununggal</td>\n",
       "      <td>2.508859</td>\n",
       "    </tr>\n",
       "    <tr>\n",
       "      <th>9</th>\n",
       "      <td>Bojongloa Kaler</td>\n",
       "      <td>3.859135</td>\n",
       "    </tr>\n",
       "    <tr>\n",
       "      <th>10</th>\n",
       "      <td>Bojongloa Kidul</td>\n",
       "      <td>1.647462</td>\n",
       "    </tr>\n",
       "    <tr>\n",
       "      <th>11</th>\n",
       "      <td>Buahbatu</td>\n",
       "      <td>1.274906</td>\n",
       "    </tr>\n",
       "    <tr>\n",
       "      <th>12</th>\n",
       "      <td>Cibeunying Kaler</td>\n",
       "      <td>1.528534</td>\n",
       "    </tr>\n",
       "    <tr>\n",
       "      <th>13</th>\n",
       "      <td>Cibeunying Kidul</td>\n",
       "      <td>2.604010</td>\n",
       "    </tr>\n",
       "    <tr>\n",
       "      <th>14</th>\n",
       "      <td>Cibiru</td>\n",
       "      <td>1.052865</td>\n",
       "    </tr>\n",
       "    <tr>\n",
       "      <th>15</th>\n",
       "      <td>Cicendo</td>\n",
       "      <td>1.280513</td>\n",
       "    </tr>\n",
       "    <tr>\n",
       "      <th>16</th>\n",
       "      <td>Cidadap</td>\n",
       "      <td>0.696817</td>\n",
       "    </tr>\n",
       "    <tr>\n",
       "      <th>17</th>\n",
       "      <td>Cinambo</td>\n",
       "      <td>0.593671</td>\n",
       "    </tr>\n",
       "    <tr>\n",
       "      <th>18</th>\n",
       "      <td>Coblong</td>\n",
       "      <td>1.799316</td>\n",
       "    </tr>\n",
       "    <tr>\n",
       "      <th>19</th>\n",
       "      <td>Gedebage</td>\n",
       "      <td>0.372309</td>\n",
       "    </tr>\n",
       "    <tr>\n",
       "      <th>20</th>\n",
       "      <td>Kiaracondong</td>\n",
       "      <td>2.275379</td>\n",
       "    </tr>\n",
       "    <tr>\n",
       "      <th>21</th>\n",
       "      <td>Lengkong</td>\n",
       "      <td>1.204518</td>\n",
       "    </tr>\n",
       "    <tr>\n",
       "      <th>22</th>\n",
       "      <td>Mandalajati</td>\n",
       "      <td>1.324542</td>\n",
       "    </tr>\n",
       "    <tr>\n",
       "      <th>23</th>\n",
       "      <td>Panyileukan</td>\n",
       "      <td>0.757966</td>\n",
       "    </tr>\n",
       "    <tr>\n",
       "      <th>24</th>\n",
       "      <td>Rancasari</td>\n",
       "      <td>1.096933</td>\n",
       "    </tr>\n",
       "    <tr>\n",
       "      <th>25</th>\n",
       "      <td>Regol</td>\n",
       "      <td>1.718713</td>\n",
       "    </tr>\n",
       "    <tr>\n",
       "      <th>26</th>\n",
       "      <td>Sukajadi</td>\n",
       "      <td>2.052557</td>\n",
       "    </tr>\n",
       "    <tr>\n",
       "      <th>27</th>\n",
       "      <td>Sukasari</td>\n",
       "      <td>1.287862</td>\n",
       "    </tr>\n",
       "    <tr>\n",
       "      <th>28</th>\n",
       "      <td>Sumur Bandung</td>\n",
       "      <td>1.048109</td>\n",
       "    </tr>\n",
       "    <tr>\n",
       "      <th>29</th>\n",
       "      <td>Ujungberung</td>\n",
       "      <td>1.232404</td>\n",
       "    </tr>\n",
       "  </tbody>\n",
       "</table>\n",
       "</div>"
      ],
      "text/plain": [
       "      Nama Kecamatan  Kepadatan Penduduk\n",
       "0              Andir            2.311682\n",
       "1           Antapani            1.764479\n",
       "2          Arcamanik            0.913215\n",
       "3       Astana Anyar            2.568284\n",
       "4    Babakan Ciparay            2.080566\n",
       "5      Bandung Kidul            1.087768\n",
       "6      Bandung Kulon            2.049079\n",
       "7      Bandung Wetan            0.904767\n",
       "8        Batununggal            2.508859\n",
       "9    Bojongloa Kaler            3.859135\n",
       "10   Bojongloa Kidul            1.647462\n",
       "11          Buahbatu            1.274906\n",
       "12  Cibeunying Kaler            1.528534\n",
       "13  Cibeunying Kidul            2.604010\n",
       "14            Cibiru            1.052865\n",
       "15           Cicendo            1.280513\n",
       "16           Cidadap            0.696817\n",
       "17           Cinambo            0.593671\n",
       "18           Coblong            1.799316\n",
       "19          Gedebage            0.372309\n",
       "20      Kiaracondong            2.275379\n",
       "21          Lengkong            1.204518\n",
       "22       Mandalajati            1.324542\n",
       "23       Panyileukan            0.757966\n",
       "24         Rancasari            1.096933\n",
       "25             Regol            1.718713\n",
       "26          Sukajadi            2.052557\n",
       "27          Sukasari            1.287862\n",
       "28     Sumur Bandung            1.048109\n",
       "29       Ujungberung            1.232404"
      ]
     },
     "execution_count": 36,
     "metadata": {},
     "output_type": "execute_result"
    }
   ],
   "source": [
    "dataset"
   ]
  },
  {
   "cell_type": "markdown",
   "metadata": {},
   "source": [
    "#penyimpanan dataset baru ke dalam .csv file"
   ]
  },
  {
   "cell_type": "code",
   "execution_count": 37,
   "metadata": {},
   "outputs": [],
   "source": [
    "dataset.to_csv('dataset_cleaned.csv', index = False)"
   ]
  },
  {
   "cell_type": "markdown",
   "metadata": {},
   "source": [
    "#inisiasi excel"
   ]
  },
  {
   "cell_type": "code",
   "execution_count": 38,
   "metadata": {},
   "outputs": [],
   "source": [
    "wb = Workbook()\n",
    "ws = wb.active"
   ]
  },
  {
   "cell_type": "markdown",
   "metadata": {},
   "source": [
    "#membuka file excel"
   ]
  },
  {
   "cell_type": "code",
   "execution_count": 39,
   "metadata": {},
   "outputs": [],
   "source": [
    "data = open('dataset_cleaned.csv')\n",
    "rows = csv.reader(data, delimiter = ',')"
   ]
  },
  {
   "cell_type": "markdown",
   "metadata": {},
   "source": [
    "#konversi data menjadi float"
   ]
  },
  {
   "cell_type": "code",
   "execution_count": 40,
   "metadata": {},
   "outputs": [],
   "source": [
    "index = 0\n",
    "for row in rows:\n",
    "    data_clean = []\n",
    "    for i in row:\n",
    "        try:\n",
    "            i = float(i)\n",
    "        except:\n",
    "            pass\n",
    "        data_clean.append(i)\n",
    "    ws.append(data_clean)\n",
    "    index +=1\n",
    "len_row = len(data_clean)"
   ]
  },
  {
   "cell_type": "markdown",
   "metadata": {},
   "source": [
    "#pembuatan grafik"
   ]
  },
  {
   "cell_type": "code",
   "execution_count": 41,
   "metadata": {},
   "outputs": [],
   "source": [
    "chart1 = BarChart()\n",
    "chart1.type = \"col\"\n",
    "chart1.style = 3\n",
    "chart1.title = 'Kepadatan Penduduk'\n",
    "chart1.y_axis.title = 'Kepadatan per 100 m2'\n",
    "chart1.x_axis.title = 'Kecamatan'"
   ]
  },
  {
   "cell_type": "code",
   "execution_count": 42,
   "metadata": {},
   "outputs": [],
   "source": [
    "data = Reference(ws, min_col=2, min_row=2, max_row=index)\n",
    "cats = Reference(ws, min_col=1, min_row=2, max_row=index)\n",
    "chart1.height = 10 # default is 7.5\n",
    "chart1.width = 30 # default is 15\n",
    "chart1.add_data(data, titles_from_data=True)\n",
    "chart1.set_categories(cats)\n",
    "ws.add_chart(chart1, 'E2')"
   ]
  },
  {
   "cell_type": "markdown",
   "metadata": {},
   "source": [
    "#menyimpan hasil akhir dalam file .xlsx baru"
   ]
  },
  {
   "cell_type": "code",
   "execution_count": 43,
   "metadata": {},
   "outputs": [],
   "source": [
    "wb.save('chart kepadatan penduduk bandung.xlsx')"
   ]
  },
  {
   "cell_type": "code",
   "execution_count": null,
   "metadata": {},
   "outputs": [],
   "source": []
  }
 ],
 "metadata": {
  "kernelspec": {
   "display_name": "Python 3",
   "language": "python",
   "name": "python3"
  },
  "language_info": {
   "codemirror_mode": {
    "name": "ipython",
    "version": 3
   },
   "file_extension": ".py",
   "mimetype": "text/x-python",
   "name": "python",
   "nbconvert_exporter": "python",
   "pygments_lexer": "ipython3",
   "version": "3.8.5"
  }
 },
 "nbformat": 4,
 "nbformat_minor": 4
}
