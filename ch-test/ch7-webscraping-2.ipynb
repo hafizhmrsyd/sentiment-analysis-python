{
 "cells": [
  {
   "cell_type": "code",
   "execution_count": 1,
   "metadata": {},
   "outputs": [],
   "source": [
    "from bs4 import BeautifulSoup as bs\n",
    "from urllib.request import urlopen, Request\n",
    "import pandas as pd"
   ]
  },
  {
   "cell_type": "code",
   "execution_count": 50,
   "metadata": {},
   "outputs": [],
   "source": [
    "def kompas():\n",
    "    url_name = 'https://www.kompas.com/'\n",
    "    \n",
    "    user_agent = 'Mozilla/5.0 (Windows NT 10.0; Win64; x64) AppleWebKit/537.36 (KHTML, like Gecko) Chrome/88.0.4324.182 Safari/537.36'\n",
    "    headers = {'User-Agent' : user_agent, 'Accept' : 'text/html,application/xhtml+xml,application/xml;q=0.9,image/avif,image/webp,image/apng,*/*;q=0.8,application/signed-exchange;v=b3;q=0.9'}\n",
    "    \n",
    "    req = Request(url_name, headers = headers)\n",
    "    html = urlopen(req)\n",
    "    data = bs(html, 'html.parser')\n",
    "    \n",
    "    boxes = data.findAll('div', {'class':'most__wrap clearfix'})\n",
    "    \n",
    "    for box in boxes:\n",
    "        item = box.findAll('h4', {'class':'most__title'})\n",
    "        titles = []\n",
    "        for title in item:\n",
    "            titles.append(title.get_text().strip())\n",
    "        \n",
    "#     print(titles)\n",
    "    \n",
    "    df = pd.DataFrame(titles)\n",
    "    df.columns = ['Judul Berita Populer']\n",
    "    print(df)"
   ]
  },
  {
   "cell_type": "code",
   "execution_count": 51,
   "metadata": {
    "scrolled": true
   },
   "outputs": [
    {
     "name": "stdout",
     "output_type": "stream",
     "text": [
      "                                Judul Berita Populer\n",
      "0  Khofifah Dilaporkan ke Polisi Soal Pesta Ulang...\n",
      "1  Kondisi Gesata Stella Semakin Memprihatinkan d...\n",
      "2  4 Hari Hilang di Lereng Gunung Merbabu, Wanita...\n",
      "3  Polisi Gratiskan Pengurusan SIM dan Surat Kend...\n",
      "4  Pasca-Lebaran 2021, Terbentuk Klaster Mudik di...\n",
      "5        Geramnya Investor Kripto Terhadap Elon Musk\n",
      "6  Reaktif Covid-19 Setelah Tes Antigen di Pos Pe...\n",
      "7  Jadwal Timnas Indonesia Vs Afghanistan, Uji Co...\n",
      "8  Soal ATM Link, Komunitas Konsumen Laporkan Ban...\n",
      "9  Penampilan Dewi Perssik Bikin Tamu Berkerumun,...\n"
     ]
    }
   ],
   "source": [
    "kompas()"
   ]
  },
  {
   "cell_type": "code",
   "execution_count": 48,
   "metadata": {},
   "outputs": [],
   "source": [
    "def kompasDua():\n",
    "    user_agent = 'Mozilla/5.0 (Windows NT 10.0; Win64; x64) AppleWebKit/537.36 (KHTML, like Gecko) Chrome/88.0.4324.182 Safari/537.36'\n",
    "    headers = {'User-Agent' : user_agent, 'Accept' : 'text/html,application/xhtml+xml,application/xml;q=0.9,image/avif,image/webp,image/apng,*/*;q=0.8,application/signed-exchange;v=b3;q=0.9'}\n",
    "    \n",
    "    alamat = 'https://www.kompas.com/'\n",
    "    req = Request(alamat, headers=headers)\n",
    "    html = urlopen(req)\n",
    "    data = bs(html, 'html.parser')\n",
    "    \n",
    "    box = data.find('div', {'class':'most__wrap clearfix'})\n",
    "    items = box.findAll('h4', {'class':'most__title'})\n",
    "\n",
    "# The problem is that you wrote a find_all to find the region. As a result, it generates a set of results, not just a single one (of course the set can contain one, zero or more results). There are two options I think:\n",
    "\n",
    "# If you are sure that there is only one div with that id (normally there should only be one, you can use a find:\n",
    "\n",
    "# region = soup.find('div', {'id': 'inning-all'})\n",
    "# table = region.find('table', {'class': 'sidearm-table play-by-play'})\n",
    "# In case there are multiple ones: iterate over the founded regions, and process them separately:\n",
    "\n",
    "# If you are sure that there is only one div with that id (normally there should only be one, you can use a find:\n",
    "\n",
    "# regions = soup.find_all('div', {'id': 'inning-all'})\n",
    "# for region in regions:\n",
    "#     table = region.find('table', {'class': 'sidearm-table play-by-play'})\n",
    "    \n",
    "    hasil = [item.get_text() for item in items]\n",
    "    df = pd.DataFrame(hasil, columns=['Judul Berita Populer'])\n",
    "    print(df)"
   ]
  },
  {
   "cell_type": "code",
   "execution_count": 49,
   "metadata": {},
   "outputs": [
    {
     "name": "stdout",
     "output_type": "stream",
     "text": [
      "                                Judul Berita Populer\n",
      "0  Khofifah Dilaporkan ke Polisi Soal Pesta Ulang...\n",
      "1  Kondisi Gesata Stella Semakin Memprihatinkan d...\n",
      "2  4 Hari Hilang di Lereng Gunung Merbabu, Wanita...\n",
      "3  Polisi Gratiskan Pengurusan SIM dan Surat Kend...\n",
      "4  Pasca-Lebaran 2021, Terbentuk Klaster Mudik di...\n",
      "5        Geramnya Investor Kripto Terhadap Elon Musk\n",
      "6  Reaktif Covid-19 Setelah Tes Antigen di Pos Pe...\n",
      "7  Jadwal Timnas Indonesia Vs Afghanistan, Uji Co...\n",
      "8  Soal ATM Link, Komunitas Konsumen Laporkan Ban...\n",
      "9  Penampilan Dewi Perssik Bikin Tamu Berkerumun,...\n"
     ]
    }
   ],
   "source": [
    "kompasDua()"
   ]
  },
  {
   "cell_type": "code",
   "execution_count": null,
   "metadata": {},
   "outputs": [],
   "source": []
  }
 ],
 "metadata": {
  "kernelspec": {
   "display_name": "Python 3",
   "language": "python",
   "name": "python3"
  },
  "language_info": {
   "codemirror_mode": {
    "name": "ipython",
    "version": 3
   },
   "file_extension": ".py",
   "mimetype": "text/x-python",
   "name": "python",
   "nbconvert_exporter": "python",
   "pygments_lexer": "ipython3",
   "version": "3.8.5"
  }
 },
 "nbformat": 4,
 "nbformat_minor": 4
}
