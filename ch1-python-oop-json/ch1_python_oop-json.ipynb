{
 "cells": [
  {
   "cell_type": "markdown",
   "metadata": {},
   "source": [
    "#### Mendefinisikan Class"
   ]
  },
  {
   "cell_type": "code",
   "execution_count": 4,
   "metadata": {},
   "outputs": [],
   "source": [
    "class mobil:\n",
    "    pass\n",
    "\n",
    "mobil1 = mobil()\n",
    "mobil2 = mobil()\n",
    "\n",
    "mobil1.jenis = \"Sedan\"\n",
    "mobil1.warna = \"Merah\"\n",
    "\n",
    "mobil2.jenis = \"SUV\"\n",
    "mobil2.warna = \"Hitam\""
   ]
  },
  {
   "cell_type": "code",
   "execution_count": 6,
   "metadata": {
    "scrolled": false
   },
   "outputs": [
    {
     "name": "stdout",
     "output_type": "stream",
     "text": [
      "<__main__.mobil object at 0x0000022C2CFECD00>\n",
      "Sedan\n",
      "Merah\n",
      "{'jenis': 'Sedan', 'warna': 'Merah'}\n"
     ]
    }
   ],
   "source": [
    "print(mobil1)\n",
    "print(mobil1.jenis)\n",
    "print(mobil1.warna)\n",
    "print(mobil1.__dict__)"
   ]
  },
  {
   "cell_type": "markdown",
   "metadata": {},
   "source": [
    "#### Mendefinisikan metode"
   ]
  },
  {
   "cell_type": "code",
   "execution_count": 15,
   "metadata": {},
   "outputs": [
    {
     "name": "stdout",
     "output_type": "stream",
     "text": [
      "Ini mobil saya!\n"
     ]
    }
   ],
   "source": [
    "class mobil:\n",
    "    def __init__(self):\n",
    "        print(\"Ini mobil saya!\")\n",
    "        \n",
    "mobil2 = mobil()"
   ]
  },
  {
   "cell_type": "code",
   "execution_count": 20,
   "metadata": {},
   "outputs": [],
   "source": [
    "class mobil:\n",
    "    def __init__(self, Jenis, Warna):\n",
    "        self.Jenis = Jenis\n",
    "        self.Warna = Warna\n",
    "\n",
    "mobil1 = mobil(\"SUV\", \"Merah\")\n",
    "mobil2 = mobil(\"Sedan\", \"Hitam\")"
   ]
  },
  {
   "cell_type": "code",
   "execution_count": 21,
   "metadata": {},
   "outputs": [
    {
     "name": "stdout",
     "output_type": "stream",
     "text": [
      "{'Jenis': 'SUV', 'Warna': 'Merah'}\n",
      "{'Jenis': 'Sedan', 'Warna': 'Hitam'}\n"
     ]
    }
   ],
   "source": [
    "print(mobil1.__dict__)\n",
    "print(mobil2.__dict__)"
   ]
  },
  {
   "cell_type": "markdown",
   "metadata": {},
   "source": [
    "#### Atribut Kelas vs Atribut Objek"
   ]
  },
  {
   "cell_type": "markdown",
   "metadata": {},
   "source": [
    "Atribut Kelas"
   ]
  },
  {
   "cell_type": "code",
   "execution_count": 25,
   "metadata": {},
   "outputs": [],
   "source": [
    "class mobil:\n",
    "    benda = 'Mobil'\n",
    "    def __init__(self, Jenis, Warna):\n",
    "        self.Jenis = Jenis\n",
    "        self.Warna = Warna\n",
    "        \n",
    "mobil1 = mobil(\"SUV\", \"Kuning\")\n",
    "mobil2 = mobil(\"SUV\", \"Hitam\")"
   ]
  },
  {
   "cell_type": "code",
   "execution_count": 26,
   "metadata": {},
   "outputs": [
    {
     "name": "stdout",
     "output_type": "stream",
     "text": [
      "Mobil\n",
      "Mobil\n"
     ]
    }
   ],
   "source": [
    "print(mobil1.benda)\n",
    "print(mobil2.benda)"
   ]
  },
  {
   "cell_type": "markdown",
   "metadata": {},
   "source": [
    " #### Metode Objek"
   ]
  },
  {
   "cell_type": "code",
   "execution_count": 30,
   "metadata": {},
   "outputs": [
    {
     "name": "stdout",
     "output_type": "stream",
     "text": [
      "Mobil SUV berwarna merah memiliki tangki dengan ukuran 50 liter\n"
     ]
    }
   ],
   "source": [
    "class mobil:\n",
    "    def __init__(self, Jenis, Warna, Tangki):\n",
    "        self.Jenis = Jenis\n",
    "        self.Warna = Warna\n",
    "        self.Tangki = Tangki\n",
    "    \n",
    "    def data_mobil(self):\n",
    "        print(\"Mobil\",self.Jenis,\"berwarna\",self.Warna,\"memiliki tangki dengan ukuran\",self.Tangki,\"liter\")\n",
    "\n",
    "mobil1 = mobil(\"SUV\", \"merah\", 50)\n",
    "mobil1.data_mobil()"
   ]
  },
  {
   "cell_type": "code",
   "execution_count": 93,
   "metadata": {},
   "outputs": [
    {
     "name": "stdout",
     "output_type": "stream",
     "text": [
      "Mobil SUV dengan warna Merah bertangki 40 berefisiensi 4 memiliki sisa bensin 32.0 terhitung dengan jarak tempuh pakai 20 km\n"
     ]
    }
   ],
   "source": [
    "class mobil:\n",
    "    def __init__(self, Jenis, Warna, Tangki, Efisiensi, Jarak):\n",
    "        self.Jenis = Jenis\n",
    "        self.Warna = Warna\n",
    "        self.Tangki = Tangki\n",
    "        self.Efisiensi = Efisiensi\n",
    "        self.Jarak = Jarak\n",
    "    \n",
    "    def info_mobil(self):\n",
    "        Sisa = self.Tangki - ((self.Jarak/10)*self.Efisiensi)\n",
    "        return print(\"Mobil\",self.Jenis,\"dengan warna\",self.Warna,\"bertangki\",self.Tangki,\"berefisiensi\",self.Efisiensi,\"memiliki sisa bensin\",Sisa,\"terhitung dengan jarak tempuh pakai\",self.Jarak,\"km\")\n",
    "    \n",
    "mobil1 = mobil(\"SUV\",\"Merah\", 40, 4, 20)\n",
    "mobil1.info_mobil()"
   ]
  },
  {
   "cell_type": "code",
   "execution_count": 55,
   "metadata": {},
   "outputs": [
    {
     "name": "stdout",
     "output_type": "stream",
     "text": [
      "Mobil SUV dengan warna hitam bertangki 40 berefisiensi 1\n",
      "memiliki sisa bensin 34.0 terhitung dengan jarak tempuh pakai 60\n"
     ]
    }
   ],
   "source": [
    "class mobil:\n",
    "    def __init__(self, jenis, warna, tangki, efisiensi):\n",
    "        self.jenis = jenis\n",
    "        self.warna = warna\n",
    "        self.tangki = tangki\n",
    "        self.efisiensi = efisiensi\n",
    "        \n",
    "    def info_mobil(self):\n",
    "        return print(\"Mobil\",self.jenis,\"dengan warna\",self.warna,\"bertangki\",self.tangki,\"berefisiensi\",self.efisiensi)\n",
    "    \n",
    "    def sisa_bensin(self, jarak):\n",
    "        sisa = self.tangki - ((jarak/10)*self.efisiensi)\n",
    "        return print(\"memiliki sisa bensin\",sisa,\"terhitung dengan jarak tempuh pakai\",jarak)\n",
    "    \n",
    "    def berita_mobil(self, jarak):\n",
    "        hasil_akhir = []\n",
    "        self.info_mobil()\n",
    "        self.sisa_bensin(jarak)\n",
    "\n",
    "desc = mobil(\"SUV\", \"hitam\", 40, 1)\n",
    "desc.berita_mobil(60)"
   ]
  },
  {
   "cell_type": "markdown",
   "metadata": {},
   "source": [
    "#### JSON"
   ]
  },
  {
   "cell_type": "code",
   "execution_count": 118,
   "metadata": {},
   "outputs": [
    {
     "name": "stdout",
     "output_type": "stream",
     "text": [
      "{'Nama': ('Alexis', 'Axel'), 'Usia': (24, 23), 'Kota': ('Ottawa', 'Seattle')}\n"
     ]
    }
   ],
   "source": [
    "import json\n",
    "\n",
    "data = {}\n",
    "data['Nama'] = 'Alexis', 'Axel'\n",
    "data['Usia'] = 24, 23\n",
    "data['Kota'] = 'Ottawa', 'Seattle'\n",
    "\n",
    "print(data)"
   ]
  },
  {
   "cell_type": "code",
   "execution_count": 119,
   "metadata": {
    "scrolled": true
   },
   "outputs": [
    {
     "name": "stdout",
     "output_type": "stream",
     "text": [
      "{\"Nama\": [\"Alexis\", \"Axel\"], \"Usia\": [24, 23], \"Kota\": [\"Ottawa\", \"Seattle\"]}\n"
     ]
    }
   ],
   "source": [
    "json_data = json.dumps(data, ensure_ascii=False)\n",
    "print(json_data)"
   ]
  },
  {
   "cell_type": "code",
   "execution_count": 167,
   "metadata": {
    "scrolled": true
   },
   "outputs": [
    {
     "name": "stdout",
     "output_type": "stream",
     "text": [
      "['SN', 'Name', 'Contribution']\n",
      "['1', 'Linus Torvalds', 'Linux Kernel']\n",
      "['2', 'Tim Berners-Lee', 'World Wide Web']\n",
      "['3', 'Guido van Rossum', 'Python Programming']\n"
     ]
    }
   ],
   "source": [
    "import csv\n",
    "\n",
    "with open('data_siswa.csv','r') as csv_file:\n",
    "    data2 = csv.reader(csv_file, delimiter=',')\n",
    "    for baris in data2:\n",
    "        print(baris)"
   ]
  },
  {
   "cell_type": "code",
   "execution_count": 169,
   "metadata": {},
   "outputs": [
    {
     "name": "stdout",
     "output_type": "stream",
     "text": [
      "['SN', 'Name', 'Contribution']\n",
      "['1', 'Linus Torvalds', 'Linux Kernel']\n",
      "['2', 'Tim Berners-Lee', 'World Wide Web']\n",
      "['3', 'Guido van Rossum', 'Python Programming']\n"
     ]
    }
   ],
   "source": [
    "csv_file = open(\"data_siswa.csv\")\n",
    "data2 = csv.reader(csv_file, delimiter=',')\n",
    "\n",
    "for file in data2:\n",
    "    print(file)"
   ]
  },
  {
   "cell_type": "code",
   "execution_count": 117,
   "metadata": {},
   "outputs": [
    {
     "name": "stdout",
     "output_type": "stream",
     "text": [
      "[{'Country': 'Antarctica', 'Slug': 'antarctica', 'ISO2': 'AQ'}, {'Country': 'Malawi', 'Slug': 'malawi', 'ISO2': 'MW'}]\n"
     ]
    }
   ],
   "source": [
    "import json\n",
    "with open('country.json') as f:\n",
    "    data2 = json.load(f)\n",
    "print(data2)"
   ]
  },
  {
   "cell_type": "markdown",
   "metadata": {},
   "source": [
    " "
   ]
  },
  {
   "cell_type": "markdown",
   "metadata": {},
   "source": [
    " "
   ]
  },
  {
   "cell_type": "markdown",
   "metadata": {},
   "source": [
    "# TUGAS 1"
   ]
  },
  {
   "cell_type": "markdown",
   "metadata": {
    "id": "hpsO3Tsu6P-P"
   },
   "source": [
    "1. Buatlah sebuah fungsi untuk menghapus semua huruf vokal pada kata-kata berikut:\n",
    "\n",
    "Bandung\n",
    "\n",
    "Jakarta\n",
    "\n",
    "Surabaya\n",
    "\n",
    "Pikiranrakyat\n",
    "\n",
    "masukkan semua hasilnya ke dalam suatu list\n",
    "\n",
    "tampilkan/print list tersebut"
   ]
  },
  {
   "cell_type": "code",
   "execution_count": 174,
   "metadata": {
    "id": "aoSKc6zT5A7W"
   },
   "outputs": [],
   "source": [
    "#contoh - palembang\n",
    "#[plmbg]\n",
    "list_data = ['Bandung', 'Jakarta', 'Surabaya', 'Pikiranrakyat']"
   ]
  },
  {
   "cell_type": "code",
   "execution_count": 192,
   "metadata": {},
   "outputs": [
    {
     "name": "stdout",
     "output_type": "stream",
     "text": [
      "['bndng', 'jkrt', 'srby', 'gr ngkh']\n"
     ]
    }
   ],
   "source": [
    "list_data = ['Bandung', 'Jakarta', 'Surabaya', 'Guru Angkuh']\n",
    "set_vokal = ['a','i','u','e','o']\n",
    "\n",
    "hasil_akhir = []\n",
    "for frase in list_data: #iterasi setiap data frase, cuman dpt SATU FRASA akhir misal method ''.join(frase_bersih) ga dipake\n",
    "    #list comprehension\n",
    "    frase_bersih = []\n",
    "    for huruf in frase.lower(): #breakdown setiap huruf di frase shg dapet SATU HURUF akhir, misal method ''.join(frase_bersih) ga dipake\n",
    "        if huruf not in set_vokal:\n",
    "            frase_bersih.append(huruf) #TANPA method dua line ini, fungsi FOR di atas GA KEPAKE\n",
    "    frase_bersih = ''.join(frase_bersih) #fungsi tanpa ini hanya akan ngasi hasil satu frase yg sudah dikoreksi (menyatukan semua anggota)\n",
    "    hasil_akhir.append(frase_bersih) #fungsinya untuk menambah EACH corrected phrase (variable) masuk list lagi\n",
    "\n",
    "print(hasil_akhir)"
   ]
  },
  {
   "cell_type": "code",
   "execution_count": 2,
   "metadata": {
    "scrolled": true
   },
   "outputs": [
    {
     "name": "stdout",
     "output_type": "stream",
     "text": [
      "['Bndng', 'Jkrt', 'Srby', 'Gr ngkh']\n"
     ]
    }
   ],
   "source": [
    "list_data = ['Bandung', 'Jakarta', 'Surabaya', 'Guru Angkuh']\n",
    "set_vokal = ['a','i','u','e','o']\n",
    "\n",
    "hasil_akhir = []\n",
    "for frase in list_data:\n",
    "    frase_bersih = [huruf for huruf in frase if huruf.lower() not in set_vokal]\n",
    "    frase_bersih = ''.join(frase_bersih)\n",
    "    hasil_akhir.append(frase_bersih)\n",
    "\n",
    "print(hasil_akhir)"
   ]
  },
  {
   "cell_type": "markdown",
   "metadata": {},
   "source": [
    " "
   ]
  },
  {
   "cell_type": "markdown",
   "metadata": {
    "id": "304kGBwv8PFJ"
   },
   "source": [
    "2. Buatlah sebuah fungsi untuk melakukan pengecekan apakah ada angka dalam kata di bawah ini :\n",
    "\n",
    "\n",
    "*   lkasjdowihpad\n",
    "*   dasd7adasd\n",
    "*   jkklashdlkahsdlklahjdoiwahdpaihpda\n",
    "*   alsjdoiwhpoihapd3adasdwadn8alkhsdlahdlhsd\n",
    "\n",
    "tampilkan/print hasilnya"
   ]
  },
  {
   "cell_type": "code",
   "execution_count": null,
   "metadata": {
    "id": "o8rfv26o6Pq-"
   },
   "outputs": [],
   "source": [
    "#contoh - banda10\n",
    "#banda10 - Terdapat Angka\n",
    "\n",
    "list_data = ['lkasjdowihpad','dasd7adasd','jkklashdlkahsdlklahjdoiwahdpaihpda','alsjdoiwhpoihapd3adasdwadn8alkhsdlahdlhsd']"
   ]
  },
  {
   "cell_type": "code",
   "execution_count": 18,
   "metadata": {
    "scrolled": true
   },
   "outputs": [
    {
     "name": "stdout",
     "output_type": "stream",
     "text": [
      "dasd7adasd Terdapat Angka 7\n",
      "alsjdoiwhpoihapd3adasdwadn8alkhsdlahdlhsd Terdapat Angka 3\n"
     ]
    }
   ],
   "source": [
    "list_data = ['lkasjdowihpad','dasd7adasd','jkklashdlkahsdlklahjdoiwahdpaihpda','alsjdoiwhpoihapd3adasdwadn8alkhsdlahdlhsd']\n",
    "\n",
    "class cek_angka:\n",
    "    def __init__(self, list_data):\n",
    "        self.list_data = list_data\n",
    "    \n",
    "    def hasil(self):\n",
    "        for data in list_data:\n",
    "            for karakter in data:\n",
    "                if karakter.isnumeric():\n",
    "                    print(data, 'Terdapat Angka', karakter)\n",
    "                    break\n",
    "\n",
    "data = cek_angka(list_data)\n",
    "data.hasil()"
   ]
  },
  {
   "cell_type": "markdown",
   "metadata": {},
   "source": [
    " "
   ]
  },
  {
   "cell_type": "markdown",
   "metadata": {
    "id": "JsobJ0uV9mjC"
   },
   "source": [
    "3. Buatlah sebuah Class yang memiliki beberapa fungsi berikut:\n",
    "\n",
    "a. Mengkapitalisasi huruf pertama sebuah kalimat,\n",
    "\n",
    "b. Mengecilkan semua huruf pada kalimat tersebut,\n",
    "\n",
    "c. Mengkapitalisasi semua huruf pada kalimat, dan\n",
    "\n",
    "d. Memisahkan setiap kata menjadi list\n",
    "\n",
    "\n",
    "Ubah kalimat berikut ini,\n",
    "\n",
    "Saya adalah warga negara Indonesia.\n",
    "\n",
    "![tugas_1.png](data:image/png;base64,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)"
   ]
  },
  {
   "cell_type": "code",
   "execution_count": 25,
   "metadata": {
    "id": "OmkotdEN9xvZ"
   },
   "outputs": [
    {
     "name": "stdout",
     "output_type": "stream",
     "text": [
      "Saya warga negara indonesia\n",
      "saya warga negara indonesia\n",
      "SAYA WARGA NEGARA INDONESIA\n",
      "['Saya', 'warga', 'negara', 'Indonesia']\n"
     ]
    }
   ],
   "source": [
    "data = 'Saya warga negara Indonesia'\n",
    "\n",
    "class main_kata:\n",
    "    def __init__(self, data):\n",
    "        self.data = data\n",
    "    \n",
    "    def besar_awal(self):\n",
    "        return print(self.data.capitalize())\n",
    "    \n",
    "    def kecil(self):\n",
    "        return print(self.data.lower())\n",
    "    \n",
    "    def besar(self):\n",
    "        return print(self.data.upper())\n",
    "    \n",
    "    def pisah(self):\n",
    "        return print(self.data.split())\n",
    "    \n",
    "    def gabungan(self):\n",
    "        self.besar_awal()\n",
    "        self.kecil()\n",
    "        self.besar()\n",
    "        self.pisah()\n",
    "\n",
    "data = main_kata(data)\n",
    "data.gabungan()"
   ]
  },
  {
   "cell_type": "code",
   "execution_count": null,
   "metadata": {},
   "outputs": [],
   "source": []
  }
 ],
 "metadata": {
  "colab": {
   "collapsed_sections": [],
   "name": "Tugas_1.ipynb",
   "provenance": []
  },
  "kernelspec": {
   "display_name": "Python 3",
   "language": "python",
   "name": "python3"
  },
  "language_info": {
   "codemirror_mode": {
    "name": "ipython",
    "version": 3
   },
   "file_extension": ".py",
   "mimetype": "text/x-python",
   "name": "python",
   "nbconvert_exporter": "python",
   "pygments_lexer": "ipython3",
   "version": "3.8.5"
  }
 },
 "nbformat": 4,
 "nbformat_minor": 1
}
